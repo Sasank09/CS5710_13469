{
 "cells": [
  {
   "cell_type": "code",
   "execution_count": 106,
   "id": "98a76796",
   "metadata": {},
   "outputs": [
    {
     "name": "stdout",
     "output_type": "stream",
     "text": [
      "Sorted ages:  [19, 19, 20, 22, 24, 24, 24, 25, 25, 26]\n",
      "Minimum value of ages:  19\n",
      "Maximum value of ages:  26\n",
      "List after update:  [19, 19, 19, 20, 22, 24, 24, 24, 25, 25, 26, 26]\n",
      "Median of ages:  24.0\n",
      "Average of ages:  22.75\n",
      "Range of ages:  7\n"
     ]
    }
   ],
   "source": [
    "#Question 1\n",
    "#statistics module. It provides some functions for calculating basic statistics on data like mean, median\n",
    "import statistics\n",
    "\n",
    "ages = [19, 22, 19, 24, 20, 25, 26, 24, 25, 24]\n",
    "#sort() function to sort the list and min(),max() to find minimum and maximum values of list respectively.\n",
    "ages.sort()\n",
    "print(\"Sorted ages: \", ages)\n",
    "print(\"Minimum value of ages: \", min(ages))\n",
    "print(\"Maximum value of ages: \", max(ages))\n",
    "# insert(position, value) - inserts the value in list at specified position\n",
    "ages.insert(0,min(ages))\n",
    "# append(value) - appends the value at the end of list\n",
    "ages.append(max(ages))\n",
    "print(\"List after update: \", ages)\n",
    "#The biggest advantage of using median() function is that the data-list does not need to be sorted \n",
    "#before being sent as parameter to the median() function using statistice module\n",
    "print(\"Median of ages: \", statistics.median(ages))\n",
    "print(\"Average of ages: \", statistics.mean(ages))\n",
    "print(\"Range of ages: \", max(ages)-min(ages))"
   ]
  },
  {
   "cell_type": "code",
   "execution_count": 107,
   "id": "0c102a45",
   "metadata": {},
   "outputs": [
    {
     "name": "stdout",
     "output_type": "stream",
     "text": [
      "Added key-value pair to dog:  {'name': 'Tommy', 'color': 'Apricot', 'breed': 'Pug', 'legs': 4, 'age': 2}\n",
      "\n",
      "Student_Dictionary after adding keys:  {'first_name': None, 'last_name': None, 'gender': None, 'age': None, 'marital status': None, 'skills': None, 'country': None, 'city': None, 'address': None}\n",
      "Length of Student_Dictionary:  9\n",
      "\n",
      "Student_dict after values update:  {'first_name': 'Sasank', 'last_name': 'Tipparaju', 'gender': 'Male', 'age': '24', 'marital status': 'Single', 'skills': ['Java', 'Python'], 'country': 'India', 'city': 'Nellore', 'address': '2B ABC Street'}\n",
      "\n",
      "Accessing Skills value in dictionary:  ['Java', 'Python']\n",
      "Data Type of Skills in Student Dict:  <class 'list'>\n",
      "Updated Skills list after adding new values:  ['Java', 'Python', 'Apex', 'JavaScript']\n",
      "\n",
      "Student:  dict_keys(['first_name', 'last_name', 'gender', 'age', 'marital status', 'skills', 'country', 'city', 'address'])\n",
      "Student:  dict_values(['Sasank', 'Tipparaju', 'Male', '24', 'Single', ['Java', 'Python', 'Apex', 'JavaScript'], 'India', 'Nellore', '2B ABC Street'])\n"
     ]
    }
   ],
   "source": [
    "#Question 2\n",
    "dog= dict()\n",
    "#update() method inserts the specified dictionary  or any key-value pairs to the resp. dictionary\n",
    "dog.update({\"name\":\"Tommy\", \"color\":\"Apricot\", \"breed\":\"Pug\", \"legs\":4, \"age\":2})\n",
    "print(\"Added key-value pair to dog: \",dog)\n",
    "\n",
    "#used  dict() function which creates a empty dictionary\n",
    "student_dict = dict()\n",
    "keyList = [\"first_name\", \"last_name\", \"gender\",\"age\",\"marital status\",\"skills\",\"country\",\"city\",\"address\"]\n",
    "#added only keys to the dictionary with None value using update method\n",
    "student_dict.update({key: None for key in keyList})\n",
    "print(\"\\nStudent_Dictionary after adding keys: \",student_dict)\n",
    "\n",
    "#utilised len(dictionary) function to calculate lenght\n",
    "print(\"Length of Student_Dictionary: \", len(student_dict))\n",
    "#updated student_dict with sample values\n",
    "student_dict.update({\"first_name\": \"Sasank\", \"last_name\": \"Tipparaju\", \"gender\": \"Male\", \"age\": \"24\", \"marital status\": \"Single\", \"skills\": [\"Java\",\"Python\"], \"country\": \"India\", \"city\": \"Nellore\", \"address\": \"2B ABC Street\"})\n",
    "\n",
    "print(\"\\nStudent_dict after values update: \", student_dict)\n",
    "\n",
    "#accessing paritcular value of key in dict: dict[\"key\"]\n",
    "print(\"\\nAccessing Skills value in dictionary: \",student_dict[\"skills\"])\n",
    "#type(value) - function gives the datatype of provided values\n",
    "print(\"Data Type of Skills in Student Dict: \", type(student_dict[\"skills\"]))\n",
    "\n",
    "#The extend() adds all the elements of an iterable (list, tuple, string etc.) to the end of the list\n",
    "student_dict[\"skills\"].extend([\"Apex\", \"JavaScript\"])\n",
    "print(\"Updated Skills list after adding new values: \", student_dict[\"skills\"])\n",
    "\n",
    "# dict.keys() and values() gives the list of keys and values as a list respectively\n",
    "print(\"\\nStudent: \",student_dict.keys())\n",
    "print(\"Student: \",student_dict.values())\n"
   ]
  },
  {
   "cell_type": "code",
   "execution_count": 108,
   "id": "7ea511ae",
   "metadata": {},
   "outputs": [
    {
     "name": "stdout",
     "output_type": "stream",
     "text": [
      "Sisters:  ('Bhavya', 'Mounika') \t type of sisters:  <class 'tuple'>\n",
      "Brothers:  ('Santhan', 'Sarath', 'Prem') \t type of brothers:  <class 'tuple'>\n",
      "siblings:  ('Bhavya', 'Mounika', 'Santhan', 'Sarath', 'Prem') \t type of siblings:  <class 'tuple'>\n",
      "Number of Siblings:  5\n",
      "family_members:  ('Bhavya', 'Mounika', 'Santhan', 'Sarath', 'Prem', 'Gopikrishna', 'Sujatha') \t type of family members  <class 'tuple'>\n"
     ]
    }
   ],
   "source": [
    "#Question 3\n",
    "sisters = (\"Bhavya\",\"Mounika\")\n",
    "print(\"Sisters: \", sisters,\"\\t type of sisters: \", type(sisters))\n",
    "brothers = (\"Santhan\",\"Sarath\",\"Prem\")\n",
    "print(\"Brothers: \", brothers, \"\\t type of brothers: \", type(brothers))\n",
    "siblings = sisters+brothers\n",
    "print(\"siblings: \",siblings,\"\\t type of siblings: \", type(siblings))\n",
    "print(\"Number of Siblings: \", len(siblings))\n",
    "family_members = siblings+(\"Gopikrishna\",\"Sujatha\")\n",
    "print(\"family_members: \", family_members, \"\\t type of family members \", type(family_members))"
   ]
  },
  {
   "cell_type": "code",
   "execution_count": 109,
   "id": "8fde3626",
   "metadata": {},
   "outputs": [
    {
     "name": "stdout",
     "output_type": "stream",
     "text": [
      "it_companies:  {'IBM', 'Microsoft', 'Facebook', 'Apple', 'Twitter', 'Oracle', 'Amazon', 'Google'}\n",
      "it_companies after update:  {'Wipro', 'Twitter', 'Oracle', 'Amazon', 'Google', 'IBM', 'LinkedIn', 'Microsoft', 'Facebook', 'Apple', 'Salesforce', 'Cognizant'} <class 'set'>\n",
      "{'Wipro', 'Twitter', 'Oracle', 'Amazon', 'Google', 'IBM', 'Microsoft', 'Facebook', 'Apple', 'Salesforce', 'Cognizant'}\n",
      "\n",
      "Difference between Remove() and Discard(): Discard() method is different from the remove() method, because the remove() method will throw an error if the specified item is not present in list, whereas the discard() method will not throw any error if item doesn't exist in list.\n",
      "\n",
      "Union of A and B sets:  {19, 20, 22, 24, 25, 26, 27, 28}\n",
      "Intersection of A and B sets:  {19, 20, 22, 24, 25, 26}\n",
      "A is Subset of B?  True\n",
      "A and B are disjoint sets?  False\n",
      "(AUB) AND (BUA):  {19, 20, 22, 24, 25, 26, 27, 28}\n",
      "Symmetric Difference of A with B:  {27, 28}\n",
      "After clear Set A values:  set() \tSet B values:  set()\n",
      "\n",
      "age list:  [22, 19, 24, 25, 26, 24, 25, 24]\n",
      "set of ageslist:  {19, 22, 24, 25, 26} Datatype:  <class 'set'>\n",
      "Length of age list:  8 \n",
      "Length of age set 5\n"
     ]
    }
   ],
   "source": [
    "#Question 4\n",
    "it_companies = {'Facebook', 'Google', 'Microsoft', 'Apple', 'IBM', 'Oracle', 'Amazon'}\n",
    "#add(elements) adds elements into the set\n",
    "it_companies.add('Twitter')\n",
    "print(\"it_companies: \", it_companies)\n",
    "it_companies.update(['Cognizant','LinkedIn','Salesforce','Wipro'])\n",
    "print(\"it_companies after update: \",it_companies, type(it_companies))\n",
    "#remove() remove the element from the set\n",
    "it_companies.remove(\"LinkedIn\")\n",
    "print(it_companies)\n",
    "\n",
    "#Difference between remove and discard\n",
    "print(\"\\nDifference between Remove() and Discard(): Discard() method is different from the remove() method, because the remove() method will throw an error if the specified item is not present in list, whereas the discard() method will not throw any error if item doesn't exist in list.\")\n",
    "A = {19, 22, 24, 20, 25, 26} \n",
    "B = {19, 22, 20, 25, 26, 24, 28, 27} \n",
    "#all set operation can be performed in set: union(), intersection()\n",
    "print(\"\\nUnion of A and B sets: \",A.union(B))\n",
    "print(\"Intersection of A and B sets: \",A.intersection(B))\n",
    "#issubset() returns true if it is subset of other else false\n",
    "print(\"A is Subset of B? \",A.issubset(B))\n",
    "#to check is A and B are disjoint sets ( no elements in common)\n",
    "print(\"A and B are disjoint sets? \",A.isdisjoint(B))\n",
    "print(\"(AUB) AND (BUA): \",(A.union(B)).intersection(B.union(A)))\n",
    "#checking symmetric differece .. return the extra elements of set A that are not in B\n",
    "print(\"Symmetric Difference of A with B: \",A.symmetric_difference(B))\n",
    "#clear() clear/ delete all elements from set\n",
    "A.clear()\n",
    "B.clear()\n",
    "print(\"After clear Set A values: \", A,\"\\tSet B values: \",B)\n",
    "\n",
    "age = [22, 19, 24, 25, 26, 24, 25, 24] \n",
    "print(\"\\nage list: \",age)\n",
    "age_set = set(age)\n",
    "print(\"set of ageslist: \", age_set, \"Datatype: \", type(age_set))\n",
    "print(\"Length of age list: \", len(age), \"\\nLength of age set\",len(age_set))\n"
   ]
  },
  {
   "cell_type": "code",
   "execution_count": 114,
   "id": "4c390a48",
   "metadata": {},
   "outputs": [
    {
     "name": "stdout",
     "output_type": "stream",
     "text": [
      "Area of a circle =  2827.4333882308138  meters square\n",
      "Circumference of a circle =  188.49555921538757  meters\n",
      "Enter radius of circle: 10\n",
      "Area of a circle =  314.1592653589793\n"
     ]
    }
   ],
   "source": [
    "#Question 5\n",
    "from math import pi\n",
    "radius_of_circle = 30\n",
    "_area_of_circle_ = pi * radius_of_circle **2\n",
    "print(\"Area of a circle = \",_area_of_circle_,\" meters square\")\n",
    "_circum_of_circle_ = 2 * pi * radius_of_circle\n",
    "print(\"Circumference of a circle = \",_circum_of_circle_, ' meters')\n",
    "\n",
    "_radius_of_circle_ = float(input(\"Enter radius of circle: \"))\n",
    "_area_of_circle_ = pi * _radius_of_circle_ **2\n",
    "print(\"Area of a circle = \",_area_of_circle_,\" meters square\")"
   ]
  },
  {
   "cell_type": "code",
   "execution_count": 116,
   "id": "a14b0ad9",
   "metadata": {},
   "outputs": [
    {
     "name": "stdout",
     "output_type": "stream",
     "text": [
      "I am a teacher and I love to inspire and teach people\n",
      "Number of Unique words:  10 {'a', 'am', 'to', 'teacher', 'love', 'people', 'and', 'teach', 'inspire', 'I'}\n"
     ]
    }
   ],
   "source": [
    "#Question 6\n",
    "print(\"I am a teacher and I love to inspire and teach people\")\n",
    "set_words = set((\"I am a teacher and I love to inspire and teach people\".split(\" \")))\n",
    "print(\"Number of Unique words: \",len(set_words), set_words)"
   ]
  },
  {
   "cell_type": "code",
   "execution_count": 120,
   "id": "d137b713",
   "metadata": {},
   "outputs": [
    {
     "name": "stdout",
     "output_type": "stream",
     "text": [
      "Name \t Age \tCountry City\n",
      "Asabench 250 \tFinland Helsinki\n"
     ]
    }
   ],
   "source": [
    "#Question 7\n",
    "\n",
    "text = \"Name \\t Age \\tCountry City\\nAsabench 250 \\tFinland Helsinki\"\n",
    "print(text)"
   ]
  },
  {
   "cell_type": "code",
   "execution_count": 127,
   "id": "0d5a4f53",
   "metadata": {},
   "outputs": [
    {
     "name": "stdout",
     "output_type": "stream",
     "text": [
      "The area of a circle with radius 10 is 314 meters square.\n"
     ]
    }
   ],
   "source": [
    "#Question 8\n",
    "radius = 10 \n",
    "area = 3.14 * radius ** 2 \n",
    "print(\"The area of a circle with radius\",radius,\"is %.0f\" %area, \"meters square.\")"
   ]
  },
  {
   "cell_type": "code",
   "execution_count": 139,
   "id": "115ab364",
   "metadata": {},
   "outputs": [
    {
     "name": "stdout",
     "output_type": "stream",
     "text": [
      "Enter number of students: 4\n",
      "Enter weight of 1 student in lbs: 140\n",
      "Enter weight of 2 student in lbs: 150\n",
      "Enter weight of 3 student in lbs: 155\n",
      "Enter weight of 4 student in lbs: 148\n",
      "weight of students in lbs:  [140, 150, 155, 148]\n",
      "weight of students in kgs:  ['{weight_lb*0.453592:.2f}', '{weight_lb*0.453592:.2f}', '{weight_lb*0.453592:.2f}', '{weight_lb*0.453592:.2f}']\n"
     ]
    }
   ],
   "source": [
    "#Question 9\n",
    "#1lb = 0.0453592kg\n",
    "number_of_students = int(input(\"Enter number of students: \"))\n",
    "weight_of_students_lbs = list()\n",
    "weight_of_students_kgs = list()\n",
    "\n",
    "for each in range(number_of_students):\n",
    "    weight_lb = int(input(\"Enter weight of {} student in lbs: \".format(each+1)))\n",
    "    weight_of_students_lbs.insert(each, weight_lb)\n",
    "    weight_kg = weight_lb*0.453592\n",
    "    weight_of_students_kgs.insert(each, \"{weight_kg:.2f}\")\n",
    "    \n",
    "print(\"weight of students in lbs: \",weight_of_students_lbs)\n",
    "print(\"weight of students in kgs: \",weight_of_students_kgs)\n"
   ]
  },
  {
   "cell_type": "markdown",
   "id": "1105cec2",
   "metadata": {},
   "source": [
    "# "
   ]
  }
 ],
 "metadata": {
  "kernelspec": {
   "display_name": "Python 3 (ipykernel)",
   "language": "python",
   "name": "python3"
  },
  "language_info": {
   "codemirror_mode": {
    "name": "ipython",
    "version": 3
   },
   "file_extension": ".py",
   "mimetype": "text/x-python",
   "name": "python",
   "nbconvert_exporter": "python",
   "pygments_lexer": "ipython3",
   "version": "3.10.6"
  }
 },
 "nbformat": 4,
 "nbformat_minor": 5
}
