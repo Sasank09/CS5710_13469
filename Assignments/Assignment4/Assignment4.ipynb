{
 "cells": [
  {
   "cell_type": "code",
   "execution_count": null,
   "id": "358c344d",
   "metadata": {},
   "outputs": [],
   "source": [
    "# Question 1\n",
    "# Apply Linear Regression to the provided dataset using underlying steps. \n",
    "#     a. Import the given “Salary_Data.csv” \n",
    "#     b. Split the data in train_test partitions, such that 1/3 of the data is reserved as test subset. \n",
    "#     c. Train and predict the model.  \n",
    "#     d. Calculate the mean_squared error e. Visualize both train and test data using scatter plot. "
   ]
  },
  {
   "cell_type": "code",
   "execution_count": 5,
   "id": "d307681f",
   "metadata": {},
   "outputs": [
    {
     "name": "stdout",
     "output_type": "stream",
     "text": [
      "\n",
      "dataframe.info, information about features\n",
      "<class 'pandas.core.frame.DataFrame'>\n",
      "RangeIndex: 30 entries, 0 to 29\n",
      "Data columns (total 2 columns):\n",
      " #   Column           Non-Null Count  Dtype  \n",
      "---  ------           --------------  -----  \n",
      " 0   YearsExperience  30 non-null     float64\n",
      " 1   Salary           30 non-null     float64\n",
      "dtypes: float64(2)\n",
      "memory usage: 608.0 bytes\n"
     ]
    }
   ],
   "source": [
    "# Importing the libraries\n",
    "\n",
    "import numpy as np\n",
    "import matplotlib.pyplot as plt\n",
    "import pandas as pd\n",
    "import seaborn as sns\n",
    "import matplotlib.pyplot as plt\n",
    "\n",
    "# Importing the datasets\n",
    " \n",
    "dataframe = pd.read_csv('datasets//Salary_Data.csv')\n",
    "print(\"\\ndataframe.info, information about features\")\n",
    "dataframe.info()"
   ]
  },
  {
   "cell_type": "code",
   "execution_count": 6,
   "id": "407bf252",
   "metadata": {},
   "outputs": [
    {
     "data": {
      "text/html": [
       "<div>\n",
       "<style scoped>\n",
       "    .dataframe tbody tr th:only-of-type {\n",
       "        vertical-align: middle;\n",
       "    }\n",
       "\n",
       "    .dataframe tbody tr th {\n",
       "        vertical-align: top;\n",
       "    }\n",
       "\n",
       "    .dataframe thead th {\n",
       "        text-align: right;\n",
       "    }\n",
       "</style>\n",
       "<table border=\"1\" class=\"dataframe\">\n",
       "  <thead>\n",
       "    <tr style=\"text-align: right;\">\n",
       "      <th></th>\n",
       "      <th>YearsExperience</th>\n",
       "      <th>Salary</th>\n",
       "    </tr>\n",
       "  </thead>\n",
       "  <tbody>\n",
       "    <tr>\n",
       "      <th>0</th>\n",
       "      <td>1.1</td>\n",
       "      <td>39343.0</td>\n",
       "    </tr>\n",
       "    <tr>\n",
       "      <th>1</th>\n",
       "      <td>1.3</td>\n",
       "      <td>46205.0</td>\n",
       "    </tr>\n",
       "    <tr>\n",
       "      <th>2</th>\n",
       "      <td>1.5</td>\n",
       "      <td>37731.0</td>\n",
       "    </tr>\n",
       "    <tr>\n",
       "      <th>3</th>\n",
       "      <td>2.0</td>\n",
       "      <td>43525.0</td>\n",
       "    </tr>\n",
       "    <tr>\n",
       "      <th>4</th>\n",
       "      <td>2.2</td>\n",
       "      <td>39891.0</td>\n",
       "    </tr>\n",
       "  </tbody>\n",
       "</table>\n",
       "</div>"
      ],
      "text/plain": [
       "   YearsExperience   Salary\n",
       "0              1.1  39343.0\n",
       "1              1.3  46205.0\n",
       "2              1.5  37731.0\n",
       "3              2.0  43525.0\n",
       "4              2.2  39891.0"
      ]
     },
     "execution_count": 6,
     "metadata": {},
     "output_type": "execute_result"
    }
   ],
   "source": [
    "dataframe.head()"
   ]
  },
  {
   "cell_type": "code",
   "execution_count": 7,
   "id": "76784f54",
   "metadata": {},
   "outputs": [
    {
     "data": {
      "text/html": [
       "<style type=\"text/css\">\n",
       "#T_fa0ce_row0_col0, #T_fa0ce_row1_col1 {\n",
       "  background-color: #00441b;\n",
       "  color: #f1f1f1;\n",
       "}\n",
       "#T_fa0ce_row0_col1, #T_fa0ce_row1_col0 {\n",
       "  background-color: #f7fcf5;\n",
       "  color: #000000;\n",
       "}\n",
       "</style>\n",
       "<table id=\"T_fa0ce\">\n",
       "  <thead>\n",
       "    <tr>\n",
       "      <th class=\"blank level0\" >&nbsp;</th>\n",
       "      <th id=\"T_fa0ce_level0_col0\" class=\"col_heading level0 col0\" >YearsExperience</th>\n",
       "      <th id=\"T_fa0ce_level0_col1\" class=\"col_heading level0 col1\" >Salary</th>\n",
       "    </tr>\n",
       "  </thead>\n",
       "  <tbody>\n",
       "    <tr>\n",
       "      <th id=\"T_fa0ce_level0_row0\" class=\"row_heading level0 row0\" >YearsExperience</th>\n",
       "      <td id=\"T_fa0ce_row0_col0\" class=\"data row0 col0\" >1.000000</td>\n",
       "      <td id=\"T_fa0ce_row0_col1\" class=\"data row0 col1\" >0.978242</td>\n",
       "    </tr>\n",
       "    <tr>\n",
       "      <th id=\"T_fa0ce_level0_row1\" class=\"row_heading level0 row1\" >Salary</th>\n",
       "      <td id=\"T_fa0ce_row1_col0\" class=\"data row1 col0\" >0.978242</td>\n",
       "      <td id=\"T_fa0ce_row1_col1\" class=\"data row1 col1\" >1.000000</td>\n",
       "    </tr>\n",
       "  </tbody>\n",
       "</table>\n"
      ],
      "text/plain": [
       "<pandas.io.formats.style.Styler at 0x16c7fbfac50>"
      ]
     },
     "execution_count": 7,
     "metadata": {},
     "output_type": "execute_result"
    }
   ],
   "source": [
    "dataframe.corr().style.background_gradient(cmap=\"Greens\")"
   ]
  },
  {
   "cell_type": "code",
   "execution_count": 8,
   "id": "39ff5b5e",
   "metadata": {},
   "outputs": [
    {
     "data": {
      "text/plain": [
       "<seaborn.axisgrid.FacetGrid at 0x16c00168cd0>"
      ]
     },
     "execution_count": 8,
     "metadata": {},
     "output_type": "execute_result"
    },
    {
     "data": {
      "image/png": "[encoded data removed]",
      "text/plain": [
       "<Figure size 500x500 with 1 Axes>"
      ]
     },
     "metadata": {},
     "output_type": "display_data"
    }
   ],
   "source": [
    "sns.lmplot(x =\"Salary\", y =\"YearsExperience\", data = dataframe, order = 2, ci = None)"
   ]
  },
  {
   "cell_type": "code",
   "execution_count": null,
   "id": "c34de391",
   "metadata": {},
   "outputs": [],
   "source": [
    "#cleaning the data\n",
    "dataframe.fillna(method ='ffill', inplace = True)\n",
    "\n",
    "X = np.array(dataframe['Salary']).reshape(-1, 1)\n",
    "y = np.array(dataframe['YearsExperience']).reshape(-1, 1)\n",
    "\n",
    "# Dropping any rows with Nan values\n",
    "dataframe.dropna(inplace = True)\n",
    "\n",
    "import sklearn\n",
    "# Splitting the data into training and testing data\n",
    "X_train, X_test, y_train, y_test = train_test_split(X, y, test_size = 0.33)\n",
    "  \n",
    "\n",
    "linearRegression_Classifier = LinearRegression()\n",
    "linearRegression_Classifier.fit(X_train, y_train)\n",
    "y_trainPred = linearRegression_Classifier.predict(X_train)\n",
    "#Score of test data\n",
    "print(\"Score: \",linearRegression_Classifier.score(X_train, y_train))\n",
    "plt.scatter(X_train, y_train, color ='b')\n",
    "plt.show()"
   ]
  },
  {
   "cell_type": "code",
   "execution_count": null,
   "id": "02360276",
   "metadata": {},
   "outputs": [],
   "source": [
    "y_pred = linearRegression_Classifier.predict(X_test)\n",
    "#Score of test data\n",
    "print(\"Score: \",linearRegression_Classifier.score(X_test, y_test))\n",
    "print(\"Score: \",linearRegression_Classifier.score(X_test, y_pred))\n",
    "\n",
    "plt.scatter(X_test, y_test, color ='b')\n",
    "plt.plot(X_test, y_pred, color ='k')\n",
    "plt.show()"
   ]
  },
  {
   "cell_type": "code",
   "execution_count": null,
   "id": "ce4b60c7",
   "metadata": {},
   "outputs": [],
   "source": [
    "\n",
    "from sklearn.metrics import mean_absolute_error,mean_squared_error\n",
    "  \n",
    "mae = mean_absolute_error(y_true=y_test,y_pred=y_pred)\n",
    "#squared True returns MSE value, False returns RMSE value.\n",
    "mse = mean_squared_error(y_true=y_test,y_pred=y_pred) #default=True\n",
    "rmse = mean_squared_error(y_true=y_test,y_pred=y_pred,squared=False)\n",
    "  \n",
    "print(\"mean_absolute_error:\",mae)\n",
    "print(\"mean_squared_error:\",mse)\n",
    "print(\"RMSE(mean_squared_error):\",rmse)"
   ]
  },
  {
   "cell_type": "code",
   "execution_count": null,
   "id": "6e7dd34b",
   "metadata": {},
   "outputs": [],
   "source": [
    "# Question2 \n",
    "# Apply K means clustering in the dataset provided:  \n",
    "#     • Remove any null values by the mean.\n",
    "#     • Use the elbow method to find a good number of clusters with the K-Means algorithm\n",
    "#     • Calculate the silhouette score for the above clustering "
   ]
  },
  {
   "cell_type": "code",
   "execution_count": null,
   "id": "52c5d927",
   "metadata": {},
   "outputs": [],
   "source": [
    "import pandas as pd\n",
    "dataframe1 = pd.read_csv('datasets//K-Mean_Dataset.csv')\n",
    "dataframe1.info()\n",
    "dataframe1.isnull().any()"
   ]
  },
  {
   "cell_type": "code",
   "execution_count": null,
   "id": "6311502c",
   "metadata": {},
   "outputs": [],
   "source": [
    "dataframe1.head()"
   ]
  },
  {
   "cell_type": "code",
   "execution_count": null,
   "id": "cd8193ce",
   "metadata": {},
   "outputs": [],
   "source": [
    "dataframe1.isnull().any()"
   ]
  },
  {
   "cell_type": "code",
   "execution_count": null,
   "id": "4d7108b9",
   "metadata": {},
   "outputs": [],
   "source": []
  },
  {
   "cell_type": "code",
   "execution_count": null,
   "id": "76a42cbd",
   "metadata": {},
   "outputs": [],
   "source": []
  }
 ],
 "metadata": {
  "kernelspec": {
   "display_name": "Python 3 (ipykernel)",
   "language": "python",
   "name": "python3"
  },
  "language_info": {
   "codemirror_mode": {
    "name": "ipython",
    "version": 3
   },
   "file_extension": ".py",
   "mimetype": "text/x-python",
   "name": "python",
   "nbconvert_exporter": "python",
   "pygments_lexer": "ipython3",
   "version": "3.10.7"
  }
 },
 "nbformat": 4,
 "nbformat_minor": 5
}
